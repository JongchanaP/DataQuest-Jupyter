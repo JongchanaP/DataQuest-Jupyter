{
 "cells": [
  {
   "cell_type": "code",
   "execution_count": 1,
   "metadata": {},
   "outputs": [],
   "source": [
    "import pandas as pd\n",
    "data_files = [\n",
    "    \"ap_2010.csv\",\n",
    "    \"class_size.csv\",\n",
    "    \"demographics.csv\",\n",
    "    \"graduation.csv\",\n",
    "    \"hs_directory.csv\",\n",
    "    \"sat_results.csv\"\n",
    "]\n",
    "data = {}\n",
    "\n",
    "for i in data_files:\n",
    "    data[i.replace('.csv','')] = pd.read_csv(i)"
   ]
  },
  {
   "cell_type": "code",
   "execution_count": 2,
   "metadata": {},
   "outputs": [
    {
     "name": "stdout",
     "output_type": "stream",
     "text": [
      "      DBN                                    SCHOOL NAME  \\\n",
      "0  01M292  HENRY STREET SCHOOL FOR INTERNATIONAL STUDIES   \n",
      "1  01M448            UNIVERSITY NEIGHBORHOOD HIGH SCHOOL   \n",
      "2  01M450                     EAST SIDE COMMUNITY SCHOOL   \n",
      "3  01M458                      FORSYTH SATELLITE ACADEMY   \n",
      "4  01M509                        MARTA VALLE HIGH SCHOOL   \n",
      "\n",
      "  Num of SAT Test Takers SAT Critical Reading Avg. Score SAT Math Avg. Score  \\\n",
      "0                     29                             355                 404   \n",
      "1                     91                             383                 423   \n",
      "2                     70                             377                 402   \n",
      "3                      7                             414                 401   \n",
      "4                     44                             390                 433   \n",
      "\n",
      "  SAT Writing Avg. Score  \n",
      "0                    363  \n",
      "1                    366  \n",
      "2                    370  \n",
      "3                    359  \n",
      "4                    384  \n"
     ]
    }
   ],
   "source": [
    "print(data['sat_results'].head(5))"
   ]
  },
  {
   "cell_type": "code",
   "execution_count": 3,
   "metadata": {},
   "outputs": [
    {
     "name": "stdout",
     "output_type": "stream",
     "text": [
      "      DBN                             SchoolName AP Test Takers   \\\n",
      "0  01M448           UNIVERSITY NEIGHBORHOOD H.S.              39   \n",
      "1  01M450                 EAST SIDE COMMUNITY HS              19   \n",
      "2  01M515                    LOWER EASTSIDE PREP              24   \n",
      "3  01M539         NEW EXPLORATIONS SCI,TECH,MATH             255   \n",
      "4  02M296  High School of Hospitality Management               s   \n",
      "\n",
      "  Total Exams Taken Number of Exams with scores 3 4 or 5  \n",
      "0                49                                   10  \n",
      "1                21                                    s  \n",
      "2                26                                   24  \n",
      "3               377                                  191  \n",
      "4                 s                                    s  \n",
      "   CSD BOROUGH SCHOOL CODE                SCHOOL NAME GRADE  PROGRAM TYPE  \\\n",
      "0    1       M        M015  P.S. 015 Roberto Clemente     0K       GEN ED   \n",
      "1    1       M        M015  P.S. 015 Roberto Clemente     0K          CTT   \n",
      "2    1       M        M015  P.S. 015 Roberto Clemente     01       GEN ED   \n",
      "3    1       M        M015  P.S. 015 Roberto Clemente     01          CTT   \n",
      "4    1       M        M015  P.S. 015 Roberto Clemente     02       GEN ED   \n",
      "\n",
      "  CORE SUBJECT (MS CORE and 9-12 ONLY) CORE COURSE (MS CORE and 9-12 ONLY)  \\\n",
      "0                                    -                                   -   \n",
      "1                                    -                                   -   \n",
      "2                                    -                                   -   \n",
      "3                                    -                                   -   \n",
      "4                                    -                                   -   \n",
      "\n",
      "  SERVICE CATEGORY(K-9* ONLY)  NUMBER OF STUDENTS / SEATS FILLED  \\\n",
      "0                           -                               19.0   \n",
      "1                           -                               21.0   \n",
      "2                           -                               17.0   \n",
      "3                           -                               17.0   \n",
      "4                           -                               15.0   \n",
      "\n",
      "   NUMBER OF SECTIONS  AVERAGE CLASS SIZE  SIZE OF SMALLEST CLASS  \\\n",
      "0                 1.0                19.0                    19.0   \n",
      "1                 1.0                21.0                    21.0   \n",
      "2                 1.0                17.0                    17.0   \n",
      "3                 1.0                17.0                    17.0   \n",
      "4                 1.0                15.0                    15.0   \n",
      "\n",
      "   SIZE OF LARGEST CLASS DATA SOURCE  SCHOOLWIDE PUPIL-TEACHER RATIO  \n",
      "0                   19.0         ATS                             NaN  \n",
      "1                   21.0         ATS                             NaN  \n",
      "2                   17.0         ATS                             NaN  \n",
      "3                   17.0         ATS                             NaN  \n",
      "4                   15.0         ATS                             NaN  \n",
      "      DBN                       Name  schoolyear fl_percent  frl_percent  \\\n",
      "0  01M015  P.S. 015 ROBERTO CLEMENTE    20052006       89.4          NaN   \n",
      "1  01M015  P.S. 015 ROBERTO CLEMENTE    20062007       89.4          NaN   \n",
      "2  01M015  P.S. 015 ROBERTO CLEMENTE    20072008       89.4          NaN   \n",
      "3  01M015  P.S. 015 ROBERTO CLEMENTE    20082009       89.4          NaN   \n",
      "4  01M015  P.S. 015 ROBERTO CLEMENTE    20092010                    96.5   \n",
      "\n",
      "   total_enrollment prek   k grade1 grade2    ...     black_num black_per  \\\n",
      "0               281   15  36     40     33    ...            74      26.3   \n",
      "1               243   15  29     39     38    ...            68      28.0   \n",
      "2               261   18  43     39     36    ...            77      29.5   \n",
      "3               252   17  37     44     32    ...            75      29.8   \n",
      "4               208   16  40     28     32    ...            67      32.2   \n",
      "\n",
      "  hispanic_num hispanic_per white_num white_per male_num male_per female_num  \\\n",
      "0          189         67.3         5       1.8    158.0     56.2      123.0   \n",
      "1          153         63.0         4       1.6    140.0     57.6      103.0   \n",
      "2          157         60.2         7       2.7    143.0     54.8      118.0   \n",
      "3          149         59.1         7       2.8    149.0     59.1      103.0   \n",
      "4          118         56.7         6       2.9    124.0     59.6       84.0   \n",
      "\n",
      "  female_per  \n",
      "0       43.8  \n",
      "1       42.4  \n",
      "2       45.2  \n",
      "3       40.9  \n",
      "4       40.4  \n",
      "\n",
      "[5 rows x 38 columns]\n",
      "    Demographic     DBN                            School Name    Cohort  \\\n",
      "0  Total Cohort  01M292  HENRY STREET SCHOOL FOR INTERNATIONAL      2003   \n",
      "1  Total Cohort  01M292  HENRY STREET SCHOOL FOR INTERNATIONAL      2004   \n",
      "2  Total Cohort  01M292  HENRY STREET SCHOOL FOR INTERNATIONAL      2005   \n",
      "3  Total Cohort  01M292  HENRY STREET SCHOOL FOR INTERNATIONAL      2006   \n",
      "4  Total Cohort  01M292  HENRY STREET SCHOOL FOR INTERNATIONAL  2006 Aug   \n",
      "\n",
      "   Total Cohort Total Grads - n Total Grads - % of cohort Total Regents - n  \\\n",
      "0             5               s                         s                 s   \n",
      "1            55              37                     67.3%                17   \n",
      "2            64              43                     67.2%                27   \n",
      "3            78              43                     55.1%                36   \n",
      "4            78              44                     56.4%                37   \n",
      "\n",
      "  Total Regents - % of cohort Total Regents - % of grads  \\\n",
      "0                           s                          s   \n",
      "1                       30.9%                      45.9%   \n",
      "2                       42.2%                      62.8%   \n",
      "3                       46.2%                      83.7%   \n",
      "4                       47.4%                      84.1%   \n",
      "\n",
      "             ...            Regents w/o Advanced - n  \\\n",
      "0            ...                                   s   \n",
      "1            ...                                  17   \n",
      "2            ...                                  27   \n",
      "3            ...                                  36   \n",
      "4            ...                                  37   \n",
      "\n",
      "  Regents w/o Advanced - % of cohort Regents w/o Advanced - % of grads  \\\n",
      "0                                  s                                 s   \n",
      "1                              30.9%                             45.9%   \n",
      "2                              42.2%                             62.8%   \n",
      "3                              46.2%                             83.7%   \n",
      "4                              47.4%                             84.1%   \n",
      "\n",
      "  Local - n Local - % of cohort   Local - % of grads Still Enrolled - n  \\\n",
      "0         s                   s                    s                  s   \n",
      "1        20               36.4%                54.1%                 15   \n",
      "2        16                 25%  37.200000000000003%                  9   \n",
      "3         7                  9%                16.3%                 16   \n",
      "4         7                  9%                15.9%                 15   \n",
      "\n",
      "  Still Enrolled - % of cohort Dropped Out - n Dropped Out - % of cohort  \n",
      "0                            s               s                         s  \n",
      "1                        27.3%               3                      5.5%  \n",
      "2                        14.1%               9                     14.1%  \n",
      "3                        20.5%              11                     14.1%  \n",
      "4                        19.2%              11                     14.1%  \n",
      "\n",
      "[5 rows x 23 columns]\n",
      "      dbn                                        school_name    borough  \\\n",
      "0  17K548                Brooklyn School for Music & Theatre   Brooklyn   \n",
      "1  09X543                   High School for Violin and Dance      Bronx   \n",
      "2  09X327        Comprehensive Model School Project M.S. 327      Bronx   \n",
      "3  02M280     Manhattan Early College School for Advertising  Manhattan   \n",
      "4  28Q680  Queens Gateway to Health Sciences Secondary Sc...     Queens   \n",
      "\n",
      "  building_code    phone_number    fax_number  grade_span_min  grade_span_max  \\\n",
      "0          K440    718-230-6250  718-230-6262             9.0              12   \n",
      "1          X400    718-842-0687  718-589-9849             9.0              12   \n",
      "2          X240    718-294-8111  718-294-8109             6.0              12   \n",
      "3          M520  718-935-3477             NaN             9.0              10   \n",
      "4          Q695    718-969-3155  718-969-3552             6.0              12   \n",
      "\n",
      "   expgrade_span_min  expgrade_span_max  \\\n",
      "0                NaN                NaN   \n",
      "1                NaN                NaN   \n",
      "2                NaN                NaN   \n",
      "3                9.0               14.0   \n",
      "4                NaN                NaN   \n",
      "\n",
      "                         ...                         priority08 priority09  \\\n",
      "0                        ...                                NaN        NaN   \n",
      "1                        ...                                NaN        NaN   \n",
      "2                        ...                                NaN        NaN   \n",
      "3                        ...                                NaN        NaN   \n",
      "4                        ...                                NaN        NaN   \n",
      "\n",
      "  priority10                                         Location 1  \\\n",
      "0        NaN  883 Classon Avenue\\nBrooklyn, NY 11225\\n(40.67...   \n",
      "1        NaN  1110 Boston Road\\nBronx, NY 10456\\n(40.8276026...   \n",
      "2        NaN  1501 Jerome Avenue\\nBronx, NY 10452\\n(40.84241...   \n",
      "3        NaN  411 Pearl Street\\nNew York, NY 10038\\n(40.7106...   \n",
      "4        NaN  160 20 Goethals Avenue\\nJamaica, NY 11432\\n(40...   \n",
      "\n",
      "  Community Board  Council District Census Tract        BIN           BBL  \\\n",
      "0             9.0              35.0        213.0  3029686.0  3.011870e+09   \n",
      "1             3.0              16.0        135.0  2004526.0  2.026340e+09   \n",
      "2             4.0              14.0        209.0  2008336.0  2.028590e+09   \n",
      "3             1.0               1.0         29.0  1001388.0  1.001130e+09   \n",
      "4             8.0              24.0       1267.0  4539721.0  4.068580e+09   \n",
      "\n",
      "                                                 NTA  \n",
      "0  Crown Heights South                           ...  \n",
      "1  Morrisania-Melrose                            ...  \n",
      "2  West Concourse                                ...  \n",
      "3  Chinatown                                     ...  \n",
      "4  Pomonok-Flushing Heights-Hillcrest            ...  \n",
      "\n",
      "[5 rows x 64 columns]\n",
      "      DBN                                    SCHOOL NAME  \\\n",
      "0  01M292  HENRY STREET SCHOOL FOR INTERNATIONAL STUDIES   \n",
      "1  01M448            UNIVERSITY NEIGHBORHOOD HIGH SCHOOL   \n",
      "2  01M450                     EAST SIDE COMMUNITY SCHOOL   \n",
      "3  01M458                      FORSYTH SATELLITE ACADEMY   \n",
      "4  01M509                        MARTA VALLE HIGH SCHOOL   \n",
      "\n",
      "  Num of SAT Test Takers SAT Critical Reading Avg. Score SAT Math Avg. Score  \\\n",
      "0                     29                             355                 404   \n",
      "1                     91                             383                 423   \n",
      "2                     70                             377                 402   \n",
      "3                      7                             414                 401   \n",
      "4                     44                             390                 433   \n",
      "\n",
      "  SAT Writing Avg. Score  \n",
      "0                    363  \n",
      "1                    366  \n",
      "2                    370  \n",
      "3                    359  \n",
      "4                    384  \n"
     ]
    }
   ],
   "source": [
    "for i in data:\n",
    "    print(data[i].head(5))"
   ]
  },
  {
   "cell_type": "code",
   "execution_count": 4,
   "metadata": {},
   "outputs": [
    {
     "name": "stdout",
     "output_type": "stream",
     "text": [
      "     N_p    N_s   N_t  aca_p_11  aca_s_11  aca_t_11  aca_tot_11    bn  \\\n",
      "0   90.0    NaN  22.0       7.8       NaN       7.9         7.9  M015   \n",
      "1  161.0    NaN  34.0       7.8       NaN       9.1         8.4  M019   \n",
      "2  367.0    NaN  42.0       8.6       NaN       7.5         8.0  M020   \n",
      "3  151.0  145.0  29.0       8.5       7.4       7.8         7.9  M034   \n",
      "4   90.0    NaN  23.0       7.9       NaN       8.1         8.0  M063   \n",
      "\n",
      "   com_p_11  com_s_11   ...    t_q8c_1  t_q8c_2  t_q8c_3 t_q8c_4  t_q9  \\\n",
      "0       7.6       NaN   ...       29.0     67.0      5.0     0.0   NaN   \n",
      "1       7.6       NaN   ...       74.0     21.0      6.0     0.0   NaN   \n",
      "2       8.3       NaN   ...       33.0     35.0     20.0    13.0   NaN   \n",
      "3       8.2       5.9   ...       21.0     45.0     28.0     7.0   NaN   \n",
      "4       7.9       NaN   ...       59.0     36.0      5.0     0.0   NaN   \n",
      "\n",
      "   t_q9_1  t_q9_2  t_q9_3  t_q9_4  t_q9_5  \n",
      "0     5.0    14.0    52.0    24.0     5.0  \n",
      "1     3.0     6.0     3.0    78.0     9.0  \n",
      "2     3.0     5.0    16.0    70.0     5.0  \n",
      "3     0.0    18.0    32.0    39.0    11.0  \n",
      "4    10.0     5.0    10.0    60.0    15.0  \n",
      "\n",
      "[5 rows x 2773 columns]\n"
     ]
    }
   ],
   "source": [
    "all_survey = pd.read_csv(\"survey_all.txt\",delimiter=\"\\t\",encoding=\"windows-1252\")\n",
    "\n",
    "d75_survey = pd.read_csv(\"survey_d75.txt\",delimiter=\"\\t\",encoding=\"windows-1252\")\n",
    "\n",
    "survey = pd.concat([all_survey,d75_survey],axis=0)\n",
    "\n",
    "print(survey.head(5))\n"
   ]
  },
  {
   "cell_type": "code",
   "execution_count": 5,
   "metadata": {},
   "outputs": [],
   "source": [
    "survey['DBN'] = survey['dbn']\n",
    "list_column = [\"DBN\", \"rr_s\", \"rr_t\", \"rr_p\", \"N_s\", \"N_t\", \"N_p\", \"saf_p_11\", \"com_p_11\", \"eng_p_11\", \"aca_p_11\", \"saf_t_11\", \"com_t_11\", \"eng_t_11\", \"aca_t_11\", \"saf_s_11\", \"com_s_11\", \"eng_s_11\", \"aca_s_11\", \"saf_tot_11\", \"com_tot_11\", \"eng_tot_11\", \"aca_tot_11\"]\n",
    "survey = survey.loc[:,list_column]\n",
    "data[\"survey\"] = survey"
   ]
  },
  {
   "cell_type": "code",
   "execution_count": 6,
   "metadata": {},
   "outputs": [
    {
     "name": "stdout",
     "output_type": "stream",
     "text": [
      "0    01M015\n",
      "1    01M015\n",
      "2    01M015\n",
      "Name: DBN, dtype: object\n"
     ]
    }
   ],
   "source": [
    "data[\"hs_directory\"][\"DBN\"] = data[\"hs_directory\"][\"dbn\"]\n",
    "\n",
    "def fillpad(x) :\n",
    "    return str(x[\"CSD\"]).zfill(2)\n",
    "\n",
    "data[\"class_size\"][\"padded_csd\"] = data[\"class_size\"].apply(fillpad, axis=1)\n",
    "\n",
    "data[\"class_size\"][\"DBN\"] = data[\"class_size\"][\"padded_csd\"] + data[\"class_size\"][\"SCHOOL CODE\"]\n",
    "\n",
    "print(data[\"class_size\"][\"DBN\"].head(3))"
   ]
  },
  {
   "cell_type": "code",
   "execution_count": 7,
   "metadata": {},
   "outputs": [
    {
     "name": "stdout",
     "output_type": "stream",
     "text": [
      "0    1122.0\n",
      "1    1172.0\n",
      "2    1149.0\n",
      "3    1174.0\n",
      "4    1207.0\n",
      "Name: sat_score, dtype: float64\n"
     ]
    }
   ],
   "source": [
    "data[\"sat_results\"][\"SAT Math Avg. Score\"] = pd.to_numeric(data[\"sat_results\"][\"SAT Math Avg. Score\"],errors=\"coerce\")\n",
    "data[\"sat_results\"][\"SAT Critical Reading Avg. Score\"] = pd.to_numeric(data[\"sat_results\"][\"SAT Critical Reading Avg. Score\"],errors=\"coerce\")\n",
    "data[\"sat_results\"][\"SAT Writing Avg. Score\"] = pd.to_numeric(data[\"sat_results\"][\"SAT Writing Avg. Score\"],errors=\"coerce\")\n",
    "\n",
    "data[\"sat_results\"][\"sat_score\"] = data[\"sat_results\"][\"SAT Math Avg. Score\"] + data[\"sat_results\"][\"SAT Critical Reading Avg. Score\"] + data[\"sat_results\"][\"SAT Writing Avg. Score\"]\n",
    "\n",
    "print(data[\"sat_results\"][\"sat_score\"].head(5))"
   ]
  },
  {
   "cell_type": "code",
   "execution_count": 8,
   "metadata": {},
   "outputs": [
    {
     "name": "stdout",
     "output_type": "stream",
     "text": [
      "      dbn                          school_name   borough building_code  \\\n",
      "0  17K548  Brooklyn School for Music & Theatre  Brooklyn          K440   \n",
      "1  09X543     High School for Violin and Dance     Bronx          X400   \n",
      "\n",
      "   phone_number    fax_number  grade_span_min  grade_span_max  \\\n",
      "0  718-230-6250  718-230-6262             9.0              12   \n",
      "1  718-842-0687  718-589-9849             9.0              12   \n",
      "\n",
      "   expgrade_span_min  expgrade_span_max        ...         priority10  \\\n",
      "0                NaN                NaN        ...                NaN   \n",
      "1                NaN                NaN        ...                NaN   \n",
      "\n",
      "                                          Location 1 Community Board  \\\n",
      "0  883 Classon Avenue\\nBrooklyn, NY 11225\\n(40.67...             9.0   \n",
      "1  1110 Boston Road\\nBronx, NY 10456\\n(40.8276026...             3.0   \n",
      "\n",
      "  Council District Census Tract        BIN           BBL  \\\n",
      "0             35.0        213.0  3029686.0  3.011870e+09   \n",
      "1             16.0        135.0  2004526.0  2.026340e+09   \n",
      "\n",
      "                                                 NTA     DBN  \\\n",
      "0  Crown Heights South                           ...  17K548   \n",
      "1  Morrisania-Melrose                            ...  09X543   \n",
      "\n",
      "                 lat  \n",
      "0  40.67029890700047  \n",
      "1   40.8276026690005  \n",
      "\n",
      "[2 rows x 66 columns]\n"
     ]
    }
   ],
   "source": [
    "import re\n",
    "\n",
    "def getlat(x):\n",
    "    latlon = str(re.findall(\"\\(.+\\)\",x[\"Location 1\"]))\n",
    "    return latlon.split(\",\")[0].replace(\"['(\",\"\")\n",
    "\n",
    "data[\"hs_directory\"][\"lat\"] = data[\"hs_directory\"].apply(getlat,axis=1)\n",
    "\n",
    "print(data[\"hs_directory\"].head(2))"
   ]
  },
  {
   "cell_type": "code",
   "execution_count": 9,
   "metadata": {},
   "outputs": [
    {
     "name": "stdout",
     "output_type": "stream",
     "text": [
      "      dbn                                  school_name   borough  \\\n",
      "0  17K548          Brooklyn School for Music & Theatre  Brooklyn   \n",
      "1  09X543             High School for Violin and Dance     Bronx   \n",
      "2  09X327  Comprehensive Model School Project M.S. 327     Bronx   \n",
      "\n",
      "  building_code  phone_number    fax_number  grade_span_min  grade_span_max  \\\n",
      "0          K440  718-230-6250  718-230-6262             9.0              12   \n",
      "1          X400  718-842-0687  718-589-9849             9.0              12   \n",
      "2          X240  718-294-8111  718-294-8109             6.0              12   \n",
      "\n",
      "   expgrade_span_min  expgrade_span_max    ...      \\\n",
      "0                NaN                NaN    ...       \n",
      "1                NaN                NaN    ...       \n",
      "2                NaN                NaN    ...       \n",
      "\n",
      "                                          Location 1 Community Board  \\\n",
      "0  883 Classon Avenue\\nBrooklyn, NY 11225\\n(40.67...             9.0   \n",
      "1  1110 Boston Road\\nBronx, NY 10456\\n(40.8276026...             3.0   \n",
      "2  1501 Jerome Avenue\\nBronx, NY 10452\\n(40.84241...             4.0   \n",
      "\n",
      "  Council District Census Tract        BIN           BBL  \\\n",
      "0             35.0        213.0  3029686.0  3.011870e+09   \n",
      "1             16.0        135.0  2004526.0  2.026340e+09   \n",
      "2             14.0        209.0  2008336.0  2.028590e+09   \n",
      "\n",
      "                                                 NTA     DBN        lat  \\\n",
      "0  Crown Heights South                           ...  17K548  40.670299   \n",
      "1  Morrisania-Melrose                            ...  09X543  40.827603   \n",
      "2  West Concourse                                ...  09X327  40.842414   \n",
      "\n",
      "         lon  \n",
      "0 -73.961648  \n",
      "1 -73.904475  \n",
      "2 -73.916162  \n",
      "\n",
      "[3 rows x 67 columns]\n"
     ]
    }
   ],
   "source": [
    "import re\n",
    "\n",
    "def getlon(x):\n",
    "    latlon = str(re.findall(\"\\(.+\\)\",x[\"Location 1\"]))\n",
    "    return latlon.split(\",\")[1].replace(\")']\",\"\")\n",
    "\n",
    "data[\"hs_directory\"][\"lon\"] = data[\"hs_directory\"].apply(getlon,axis=1)\n",
    "\n",
    "data[\"hs_directory\"][\"lat\"] = pd.to_numeric(data[\"hs_directory\"][\"lat\"],errors=\"coerce\")\n",
    "data[\"hs_directory\"][\"lon\"] = pd.to_numeric(data[\"hs_directory\"][\"lon\"],errors=\"coerce\")\n",
    "\n",
    "print(data[\"hs_directory\"].head(3))"
   ]
  },
  {
   "cell_type": "code",
   "execution_count": 10,
   "metadata": {},
   "outputs": [
    {
     "name": "stdout",
     "output_type": "stream",
     "text": [
      "     CSD BOROUGH SCHOOL CODE                                    SCHOOL NAME  \\\n",
      "225    1       M        M292  Henry Street School for International Studies   \n",
      "226    1       M        M292  Henry Street School for International Studies   \n",
      "227    1       M        M292  Henry Street School for International Studies   \n",
      "228    1       M        M292  Henry Street School for International Studies   \n",
      "229    1       M        M292  Henry Street School for International Studies   \n",
      "\n",
      "    GRADE  PROGRAM TYPE CORE SUBJECT (MS CORE and 9-12 ONLY)  \\\n",
      "225  09-12       GEN ED                              ENGLISH   \n",
      "226  09-12       GEN ED                              ENGLISH   \n",
      "227  09-12       GEN ED                              ENGLISH   \n",
      "228  09-12       GEN ED                              ENGLISH   \n",
      "229  09-12       GEN ED                                 MATH   \n",
      "\n",
      "    CORE COURSE (MS CORE and 9-12 ONLY) SERVICE CATEGORY(K-9* ONLY)  \\\n",
      "225                           English 9                           -   \n",
      "226                          English 10                           -   \n",
      "227                          English 11                           -   \n",
      "228                          English 12                           -   \n",
      "229                  Integrated Algebra                           -   \n",
      "\n",
      "     NUMBER OF STUDENTS / SEATS FILLED  NUMBER OF SECTIONS  \\\n",
      "225                               63.0                 3.0   \n",
      "226                               79.0                 3.0   \n",
      "227                               38.0                 2.0   \n",
      "228                               69.0                 3.0   \n",
      "229                               53.0                 3.0   \n",
      "\n",
      "     AVERAGE CLASS SIZE  SIZE OF SMALLEST CLASS  SIZE OF LARGEST CLASS  \\\n",
      "225                21.0                    19.0                   25.0   \n",
      "226                26.3                    24.0                   31.0   \n",
      "227                19.0                    16.0                   22.0   \n",
      "228                23.0                    13.0                   30.0   \n",
      "229                17.7                    16.0                   21.0   \n",
      "\n",
      "    DATA SOURCE  SCHOOLWIDE PUPIL-TEACHER RATIO padded_csd     DBN  \n",
      "225       STARS                             NaN         01  01M292  \n",
      "226       STARS                             NaN         01  01M292  \n",
      "227       STARS                             NaN         01  01M292  \n",
      "228       STARS                             NaN         01  01M292  \n",
      "229       STARS                             NaN         01  01M292  \n"
     ]
    }
   ],
   "source": [
    "class_size = data[\"class_size\"]\n",
    "class_size = class_size[class_size[\"GRADE \"] == \"09-12\"]\n",
    "class_size = class_size[class_size[\"PROGRAM TYPE\"] == \"GEN ED\"]\n",
    "\n",
    "print(class_size.head(5))"
   ]
  },
  {
   "cell_type": "code",
   "execution_count": 11,
   "metadata": {},
   "outputs": [
    {
     "name": "stdout",
     "output_type": "stream",
     "text": [
      "      DBN  CSD  NUMBER OF STUDENTS / SEATS FILLED  NUMBER OF SECTIONS  \\\n",
      "0  01M292    1                            88.0000                4.00   \n",
      "1  01M332    1                            46.0000                2.00   \n",
      "2  01M378    1                            33.0000                1.00   \n",
      "3  01M448    1                           105.6875                4.75   \n",
      "\n",
      "   AVERAGE CLASS SIZE  SIZE OF SMALLEST CLASS  SIZE OF LARGEST CLASS  \\\n",
      "0           22.564286                   18.50              26.571429   \n",
      "1           22.000000                   21.00              23.500000   \n",
      "2           33.000000                   33.00              33.000000   \n",
      "3           22.231250                   18.25              27.062500   \n",
      "\n",
      "   SCHOOLWIDE PUPIL-TEACHER RATIO  \n",
      "0                             NaN  \n",
      "1                             NaN  \n",
      "2                             NaN  \n",
      "3                             NaN  \n"
     ]
    }
   ],
   "source": [
    "import numpy as np\n",
    "csgrouped = class_size.groupby(\"DBN\")\n",
    "class_size = csgrouped.agg(np.mean)\n",
    "\n",
    "class_size.reset_index(inplace=True)\n",
    "\n",
    "data[\"class_size\"] = class_size\n",
    "\n",
    "print(data[\"class_size\"].head(4))\n",
    "\n"
   ]
  },
  {
   "cell_type": "code",
   "execution_count": 12,
   "metadata": {},
   "outputs": [
    {
     "name": "stdout",
     "output_type": "stream",
     "text": [
      "       DBN                                              Name  schoolyear  \\\n",
      "6   01M015  P.S. 015 ROBERTO CLEMENTE                           20112012   \n",
      "13  01M019  P.S. 019 ASHER LEVY                                 20112012   \n",
      "20  01M020  PS 020 ANNA SILVER                                  20112012   \n",
      "27  01M034  PS 034 FRANKLIN D ROOSEVELT                         20112012   \n",
      "\n",
      "   fl_percent  frl_percent  total_enrollment prek    k grade1 grade2  \\\n",
      "6         NaN         89.4               189   13   31     35     28   \n",
      "13        NaN         61.5               328   32   46     52     54   \n",
      "20        NaN         92.5               626   52  102    121     87   \n",
      "27        NaN         99.7               401   14   34     38     36   \n",
      "\n",
      "      ...     black_num black_per hispanic_num hispanic_per white_num  \\\n",
      "6     ...            63      33.3          109         57.7         4   \n",
      "13    ...            81      24.7          158         48.2        28   \n",
      "20    ...            55       8.8          357         57.0        16   \n",
      "27    ...            90      22.4          275         68.6         8   \n",
      "\n",
      "   white_per male_num male_per female_num female_per  \n",
      "6        2.1     97.0     51.3       92.0       48.7  \n",
      "13       8.5    147.0     44.8      181.0       55.2  \n",
      "20       2.6    330.0     52.7      296.0       47.3  \n",
      "27       2.0    204.0     50.9      197.0       49.1  \n",
      "\n",
      "[4 rows x 38 columns]\n"
     ]
    }
   ],
   "source": [
    "data[\"demographics\"] = data[\"demographics\"][data[\"demographics\"][\"schoolyear\"] == 20112012]\n",
    "\n",
    "print(data[\"demographics\"].head(4))"
   ]
  },
  {
   "cell_type": "code",
   "execution_count": 13,
   "metadata": {},
   "outputs": [
    {
     "name": "stdout",
     "output_type": "stream",
     "text": [
      "     Demographic     DBN                            School Name Cohort  \\\n",
      "3   Total Cohort  01M292  HENRY STREET SCHOOL FOR INTERNATIONAL   2006   \n",
      "10  Total Cohort  01M448    UNIVERSITY NEIGHBORHOOD HIGH SCHOOL   2006   \n",
      "17  Total Cohort  01M450             EAST SIDE COMMUNITY SCHOOL   2006   \n",
      "24  Total Cohort  01M509                MARTA VALLE HIGH SCHOOL   2006   \n",
      "\n",
      "    Total Cohort Total Grads - n Total Grads - % of cohort Total Regents - n  \\\n",
      "3             78              43                     55.1%                36   \n",
      "10           124              53                     42.7%                42   \n",
      "17            90              70                     77.8%                67   \n",
      "24            84              47                       56%                40   \n",
      "\n",
      "   Total Regents - % of cohort Total Regents - % of grads  \\\n",
      "3                        46.2%                      83.7%   \n",
      "10                       33.9%                      79.2%   \n",
      "17         74.400000000000006%                      95.7%   \n",
      "24                       47.6%                      85.1%   \n",
      "\n",
      "              ...            Regents w/o Advanced - n  \\\n",
      "3             ...                                  36   \n",
      "10            ...                                  34   \n",
      "17            ...                                  67   \n",
      "24            ...                                  23   \n",
      "\n",
      "   Regents w/o Advanced - % of cohort Regents w/o Advanced - % of grads  \\\n",
      "3                               46.2%                             83.7%   \n",
      "10                              27.4%                             64.2%   \n",
      "17                74.400000000000006%                             95.7%   \n",
      "24                              27.4%                             48.9%   \n",
      "\n",
      "   Local - n Local - % of cohort Local - % of grads Still Enrolled - n  \\\n",
      "3          7                  9%              16.3%                 16   \n",
      "10        11                8.9%              20.8%                 46   \n",
      "17         3                3.3%               4.3%                 15   \n",
      "24         7  8.300000000000001%              14.9%                 25   \n",
      "\n",
      "   Still Enrolled - % of cohort Dropped Out - n Dropped Out - % of cohort  \n",
      "3                         20.5%              11                     14.1%  \n",
      "10                        37.1%              20       16.100000000000001%  \n",
      "17                        16.7%               5                      5.6%  \n",
      "24                        29.8%               5                        6%  \n",
      "\n",
      "[4 rows x 23 columns]\n"
     ]
    }
   ],
   "source": [
    "data[\"graduation\"] = data[\"graduation\"][(data[\"graduation\"][\"Cohort\"] == \"2006\") & (data[\"graduation\"][\"Demographic\"] == \"Total Cohort\")]\n",
    "\n",
    "print(data[\"graduation\"].head(4))"
   ]
  },
  {
   "cell_type": "code",
   "execution_count": 14,
   "metadata": {},
   "outputs": [
    {
     "data": {
      "text/plain": [
       "AP Test Takers                          float64\n",
       "Total Exams Taken                       float64\n",
       "Number of Exams with scores 3 4 or 5    float64\n",
       "dtype: object"
      ]
     },
     "execution_count": 14,
     "metadata": {},
     "output_type": "execute_result"
    }
   ],
   "source": [
    "cols = ['AP Test Takers ', 'Total Exams Taken', 'Number of Exams with scores 3 4 or 5']\n",
    "\n",
    "data[\"ap_2010\"][cols] = data[\"ap_2010\"][cols].apply(pd.to_numeric,errors=\"coerce\")\n",
    "\n",
    "data[\"ap_2010\"][cols].dtypes"
   ]
  },
  {
   "cell_type": "code",
   "execution_count": 15,
   "metadata": {},
   "outputs": [
    {
     "name": "stdout",
     "output_type": "stream",
     "text": [
      "      DBN                                    SCHOOL NAME  \\\n",
      "0  01M292  HENRY STREET SCHOOL FOR INTERNATIONAL STUDIES   \n",
      "1  01M448            UNIVERSITY NEIGHBORHOOD HIGH SCHOOL   \n",
      "2  01M450                     EAST SIDE COMMUNITY SCHOOL   \n",
      "\n",
      "  Num of SAT Test Takers  SAT Critical Reading Avg. Score  \\\n",
      "0                     29                            355.0   \n",
      "1                     91                            383.0   \n",
      "2                     70                            377.0   \n",
      "\n",
      "   SAT Math Avg. Score  SAT Writing Avg. Score  sat_score  \\\n",
      "0                404.0                   363.0     1122.0   \n",
      "1                423.0                   366.0     1172.0   \n",
      "2                402.0                   370.0     1149.0   \n",
      "\n",
      "                     SchoolName  AP Test Takers   Total Exams Taken  \\\n",
      "0                           NaN              NaN                NaN   \n",
      "1  UNIVERSITY NEIGHBORHOOD H.S.             39.0               49.0   \n",
      "2        EAST SIDE COMMUNITY HS             19.0               21.0   \n",
      "\n",
      "             ...             Regents w/o Advanced - n  \\\n",
      "0            ...                                   36   \n",
      "1            ...                                   34   \n",
      "2            ...                                   67   \n",
      "\n",
      "  Regents w/o Advanced - % of cohort Regents w/o Advanced - % of grads  \\\n",
      "0                              46.2%                             83.7%   \n",
      "1                              27.4%                             64.2%   \n",
      "2                74.400000000000006%                             95.7%   \n",
      "\n",
      "  Local - n  Local - % of cohort Local - % of grads Still Enrolled - n  \\\n",
      "0         7                   9%              16.3%                 16   \n",
      "1        11                 8.9%              20.8%                 46   \n",
      "2         3                 3.3%               4.3%                 15   \n",
      "\n",
      "  Still Enrolled - % of cohort Dropped Out - n Dropped Out - % of cohort  \n",
      "0                        20.5%              11                     14.1%  \n",
      "1                        37.1%              20       16.100000000000001%  \n",
      "2                        16.7%               5                      5.6%  \n",
      "\n",
      "[3 rows x 33 columns]\n"
     ]
    },
    {
     "data": {
      "text/plain": [
       "(479, 33)"
      ]
     },
     "execution_count": 15,
     "metadata": {},
     "output_type": "execute_result"
    }
   ],
   "source": [
    "combined = data[\"sat_results\"]\n",
    "\n",
    "combined = combined.merge(data[\"ap_2010\"],how=\"left\",on=\"DBN\")\n",
    "\n",
    "combined = combined.merge(data[\"graduation\"],how=\"left\",on=\"DBN\")\n",
    "\n",
    "print(combined.head(3))\n",
    "\n",
    "combined.shape"
   ]
  },
  {
   "cell_type": "code",
   "execution_count": 16,
   "metadata": {},
   "outputs": [
    {
     "name": "stdout",
     "output_type": "stream",
     "text": [
      "      DBN                                    SCHOOL NAME  \\\n",
      "0  01M292  HENRY STREET SCHOOL FOR INTERNATIONAL STUDIES   \n",
      "1  01M448            UNIVERSITY NEIGHBORHOOD HIGH SCHOOL   \n",
      "2  01M450                     EAST SIDE COMMUNITY SCHOOL   \n",
      "\n",
      "  Num of SAT Test Takers  SAT Critical Reading Avg. Score  \\\n",
      "0                     29                            355.0   \n",
      "1                     91                            383.0   \n",
      "2                     70                            377.0   \n",
      "\n",
      "   SAT Math Avg. Score  SAT Writing Avg. Score  sat_score  \\\n",
      "0                404.0                   363.0     1122.0   \n",
      "1                423.0                   366.0     1172.0   \n",
      "2                402.0                   370.0     1149.0   \n",
      "\n",
      "                     SchoolName  AP Test Takers   Total Exams Taken  \\\n",
      "0                           NaN              NaN                NaN   \n",
      "1  UNIVERSITY NEIGHBORHOOD H.S.             39.0               49.0   \n",
      "2        EAST SIDE COMMUNITY HS             19.0               21.0   \n",
      "\n",
      "     ...      priority10                                         Location 1  \\\n",
      "0    ...             NaN  220 Henry Street\\nNew York, NY 10002\\n(40.7137...   \n",
      "1    ...             NaN  200 Monroe Street\\nNew York, NY 10002\\n(40.712...   \n",
      "2    ...             NaN  420 East 12 Street\\nNew York, NY 10009\\n(40.72...   \n",
      "\n",
      "  Community Board Council District  Census Tract        BIN           BBL  \\\n",
      "0             3.0              1.0         201.0  1003223.0  1.002690e+09   \n",
      "1             3.0              1.0         202.0  1003214.0  1.002590e+09   \n",
      "2             3.0              2.0          34.0  1005974.0  1.004390e+09   \n",
      "\n",
      "                                                 NTA        lat        lon  \n",
      "0  Lower East Side                               ...  40.713764 -73.985260  \n",
      "1  Lower East Side                               ...  40.712332 -73.984797  \n",
      "2  East Village                                  ...  40.729783 -73.983041  \n",
      "\n",
      "[3 rows x 165 columns]\n"
     ]
    },
    {
     "data": {
      "text/plain": [
       "(363, 165)"
      ]
     },
     "execution_count": 16,
     "metadata": {},
     "output_type": "execute_result"
    }
   ],
   "source": [
    "combined = combined.merge(data[\"class_size\"],how=\"inner\",on=\"DBN\")\n",
    "combined = combined.merge(data[\"demographics\"],how=\"inner\",on=\"DBN\")\n",
    "combined = combined.merge(data[\"survey\"],how=\"inner\",on=\"DBN\")\n",
    "combined = combined.merge(data[\"hs_directory\"],how=\"inner\",on=\"DBN\")\n",
    "\n",
    "print(combined.head(3))\n",
    "\n",
    "combined.shape"
   ]
  },
  {
   "cell_type": "code",
   "execution_count": 17,
   "metadata": {},
   "outputs": [
    {
     "name": "stdout",
     "output_type": "stream",
     "text": [
      "      DBN                                        SCHOOL NAME  \\\n",
      "0  01M292      HENRY STREET SCHOOL FOR INTERNATIONAL STUDIES   \n",
      "1  01M448                UNIVERSITY NEIGHBORHOOD HIGH SCHOOL   \n",
      "2  01M450                         EAST SIDE COMMUNITY SCHOOL   \n",
      "3  01M509                            MARTA VALLE HIGH SCHOOL   \n",
      "4  01M539  NEW EXPLORATIONS INTO SCIENCE, TECHNOLOGY AND ...   \n",
      "5  01M696                     BARD HIGH SCHOOL EARLY COLLEGE   \n",
      "\n",
      "  Num of SAT Test Takers  SAT Critical Reading Avg. Score  \\\n",
      "0                     29                            355.0   \n",
      "1                     91                            383.0   \n",
      "2                     70                            377.0   \n",
      "3                     44                            390.0   \n",
      "4                    159                            522.0   \n",
      "5                    130                            624.0   \n",
      "\n",
      "   SAT Math Avg. Score  SAT Writing Avg. Score  sat_score  \\\n",
      "0                404.0                   363.0     1122.0   \n",
      "1                423.0                   366.0     1172.0   \n",
      "2                402.0                   370.0     1149.0   \n",
      "3                433.0                   384.0     1207.0   \n",
      "4                574.0                   525.0     1621.0   \n",
      "5                604.0                   628.0     1856.0   \n",
      "\n",
      "                       SchoolName  AP Test Takers   Total Exams Taken  \\\n",
      "0                               0       129.028846         197.038462   \n",
      "1    UNIVERSITY NEIGHBORHOOD H.S.        39.000000          49.000000   \n",
      "2          EAST SIDE COMMUNITY HS        19.000000          21.000000   \n",
      "3                               0       129.028846         197.038462   \n",
      "4  NEW EXPLORATIONS SCI,TECH,MATH       255.000000         377.000000   \n",
      "5                               0       129.028846         197.038462   \n",
      "\n",
      "     ...      priority10                                         Location 1  \\\n",
      "0    ...               0  220 Henry Street\\nNew York, NY 10002\\n(40.7137...   \n",
      "1    ...               0  200 Monroe Street\\nNew York, NY 10002\\n(40.712...   \n",
      "2    ...               0  420 East 12 Street\\nNew York, NY 10009\\n(40.72...   \n",
      "3    ...               0  145 Stanton Street\\nNew York, NY 10002\\n(40.72...   \n",
      "4    ...               0  111 Columbia Street\\nNew York, NY 10002\\n(40.7...   \n",
      "5    ...               0  525 East Houston Street\\nNew York, NY 10002\\n(...   \n",
      "\n",
      "  Community Board Council District  Census Tract        BIN           BBL  \\\n",
      "0             3.0              1.0         201.0  1003223.0  1.002690e+09   \n",
      "1             3.0              1.0         202.0  1003214.0  1.002590e+09   \n",
      "2             3.0              2.0          34.0  1005974.0  1.004390e+09   \n",
      "3             3.0              1.0        3001.0  1004323.0  1.003540e+09   \n",
      "4             3.0              2.0        2201.0  1004070.0  1.003350e+09   \n",
      "5             3.0              2.0        1002.0  1004062.0  1.003250e+09   \n",
      "\n",
      "                                                 NTA        lat        lon  \n",
      "0  Lower East Side                               ...  40.713764 -73.985260  \n",
      "1  Lower East Side                               ...  40.712332 -73.984797  \n",
      "2  East Village                                  ...  40.729783 -73.983041  \n",
      "3  Chinatown                                     ...  40.720569 -73.985673  \n",
      "4  Lower East Side                               ...  40.718725 -73.979426  \n",
      "5  Lower East Side                               ...  40.718962 -73.976066  \n",
      "\n",
      "[6 rows x 165 columns]\n"
     ]
    }
   ],
   "source": [
    "combined = combined.fillna(combined.mean())\n",
    "combined = combined.fillna(0)\n",
    "\n",
    "print(combined.head(6))"
   ]
  },
  {
   "cell_type": "code",
   "execution_count": 18,
   "metadata": {},
   "outputs": [
    {
     "data": {
      "text/plain": [
       "0    01\n",
       "1    01\n",
       "2    01\n",
       "Name: school_dist, dtype: object"
      ]
     },
     "execution_count": 18,
     "metadata": {},
     "output_type": "execute_result"
    }
   ],
   "source": [
    "def get_first_two_chars(x):\n",
    "    return x[0:2]\n",
    "\n",
    "combined[\"school_dist\"] = combined['DBN'].apply(get_first_two_chars)\n",
    "combined[\"school_dist\"].head(3)"
   ]
  },
  {
   "cell_type": "code",
   "execution_count": 19,
   "metadata": {},
   "outputs": [
    {
     "data": {
      "text/plain": [
       "SAT Critical Reading Avg. Score         0.986820\n",
       "SAT Math Avg. Score                     0.972643\n",
       "SAT Writing Avg. Score                  0.987771\n",
       "sat_score                               1.000000\n",
       "AP Test Takers                          0.523140\n",
       "Total Exams Taken                       0.514333\n",
       "Number of Exams with scores 3 4 or 5    0.463245\n",
       "Total Cohort                            0.325144\n",
       "CSD                                     0.042948\n",
       "NUMBER OF STUDENTS / SEATS FILLED       0.394626\n",
       "NUMBER OF SECTIONS                      0.362673\n",
       "AVERAGE CLASS SIZE                      0.381014\n",
       "SIZE OF SMALLEST CLASS                  0.249949\n",
       "SIZE OF LARGEST CLASS                   0.314434\n",
       "SCHOOLWIDE PUPIL-TEACHER RATIO               NaN\n",
       "schoolyear                                   NaN\n",
       "fl_percent                                   NaN\n",
       "frl_percent                            -0.722225\n",
       "total_enrollment                        0.367857\n",
       "ell_num                                -0.153778\n",
       "ell_percent                            -0.398750\n",
       "sped_num                                0.034933\n",
       "sped_percent                           -0.448170\n",
       "asian_num                               0.475445\n",
       "asian_per                               0.570730\n",
       "black_num                               0.027979\n",
       "black_per                              -0.284139\n",
       "hispanic_num                            0.025744\n",
       "hispanic_per                           -0.396985\n",
       "white_num                               0.449559\n",
       "                                          ...   \n",
       "aca_p_11                                0.035155\n",
       "saf_t_11                                0.313810\n",
       "com_t_11                                0.082419\n",
       "eng_t_11                                0.036906\n",
       "aca_t_11                                0.132348\n",
       "saf_s_11                                0.337639\n",
       "com_s_11                                0.187370\n",
       "eng_s_11                                0.213822\n",
       "aca_s_11                                0.339435\n",
       "saf_tot_11                              0.318753\n",
       "com_tot_11                              0.077310\n",
       "eng_tot_11                              0.100102\n",
       "aca_tot_11                              0.190966\n",
       "grade_span_min                         -0.021315\n",
       "grade_span_max                               NaN\n",
       "expgrade_span_min                            NaN\n",
       "expgrade_span_max                            NaN\n",
       "postcode                               -0.063977\n",
       "total_students                          0.407827\n",
       "number_programs                         0.117012\n",
       "priority08                                   NaN\n",
       "priority09                                   NaN\n",
       "priority10                                   NaN\n",
       "Community Board                        -0.060919\n",
       "Council District                       -0.076151\n",
       "Census Tract                            0.048737\n",
       "BIN                                     0.052232\n",
       "BBL                                     0.044427\n",
       "lat                                    -0.121029\n",
       "lon                                    -0.132222\n",
       "Name: sat_score, Length: 74, dtype: float64"
      ]
     },
     "execution_count": 19,
     "metadata": {},
     "output_type": "execute_result"
    }
   ],
   "source": [
    "correlations = combined.corr(method=\"pearson\")[\"sat_score\"]\n",
    "correlations"
   ]
  },
  {
   "cell_type": "code",
   "execution_count": 20,
   "metadata": {
    "scrolled": true
   },
   "outputs": [
    {
     "name": "stdout",
     "output_type": "stream",
     "text": [
      "SAT Critical Reading Avg. Score         0.986820\n",
      "SAT Math Avg. Score                     0.972643\n",
      "SAT Writing Avg. Score                  0.987771\n",
      "sat_score                               1.000000\n",
      "AP Test Takers                          0.523140\n",
      "Total Exams Taken                       0.514333\n",
      "Number of Exams with scores 3 4 or 5    0.463245\n",
      "Total Cohort                            0.325144\n",
      "CSD                                     0.042948\n",
      "NUMBER OF STUDENTS / SEATS FILLED       0.394626\n",
      "NUMBER OF SECTIONS                      0.362673\n",
      "AVERAGE CLASS SIZE                      0.381014\n",
      "SIZE OF SMALLEST CLASS                  0.249949\n",
      "SIZE OF LARGEST CLASS                   0.314434\n",
      "SCHOOLWIDE PUPIL-TEACHER RATIO               NaN\n",
      "schoolyear                                   NaN\n",
      "fl_percent                                   NaN\n",
      "frl_percent                            -0.722225\n",
      "total_enrollment                        0.367857\n",
      "ell_num                                -0.153778\n",
      "ell_percent                            -0.398750\n",
      "sped_num                                0.034933\n",
      "sped_percent                           -0.448170\n",
      "asian_num                               0.475445\n",
      "asian_per                               0.570730\n",
      "black_num                               0.027979\n",
      "black_per                              -0.284139\n",
      "hispanic_num                            0.025744\n",
      "hispanic_per                           -0.396985\n",
      "white_num                               0.449559\n",
      "white_per                               0.620718\n",
      "male_num                                0.325520\n",
      "male_per                               -0.112062\n",
      "female_num                              0.388631\n",
      "female_per                              0.112108\n",
      "rr_s                                    0.232199\n",
      "rr_t                                   -0.023386\n",
      "rr_p                                    0.047925\n",
      "N_s                                     0.423463\n",
      "N_t                                     0.291463\n",
      "N_p                                     0.421530\n",
      "saf_p_11                                0.122913\n",
      "com_p_11                               -0.115073\n",
      "eng_p_11                                0.020254\n",
      "aca_p_11                                0.035155\n",
      "saf_t_11                                0.313810\n",
      "com_t_11                                0.082419\n",
      "eng_t_11                                0.036906\n",
      "aca_t_11                                0.132348\n",
      "saf_s_11                                0.337639\n",
      "com_s_11                                0.187370\n",
      "eng_s_11                                0.213822\n",
      "aca_s_11                                0.339435\n",
      "saf_tot_11                              0.318753\n",
      "com_tot_11                              0.077310\n",
      "eng_tot_11                              0.100102\n",
      "aca_tot_11                              0.190966\n",
      "grade_span_min                         -0.021315\n",
      "grade_span_max                               NaN\n",
      "expgrade_span_min                            NaN\n",
      "expgrade_span_max                            NaN\n",
      "postcode                               -0.063977\n",
      "total_students                          0.407827\n",
      "number_programs                         0.117012\n",
      "priority08                                   NaN\n",
      "priority09                                   NaN\n",
      "priority10                                   NaN\n",
      "Community Board                        -0.060919\n",
      "Council District                       -0.076151\n",
      "Census Tract                            0.048737\n",
      "BIN                                     0.052232\n",
      "BBL                                     0.044427\n",
      "lat                                    -0.121029\n",
      "lon                                    -0.132222\n",
      "Name: sat_score, dtype: float64\n"
     ]
    }
   ],
   "source": [
    "pd.options.display.max_rows = 999\n",
    "print(correlations)"
   ]
  },
  {
   "cell_type": "code",
   "execution_count": 21,
   "metadata": {},
   "outputs": [
    {
     "data": {
      "text/plain": [
       "<matplotlib.axes._subplots.AxesSubplot at 0x10c8fa2b0>"
      ]
     },
     "execution_count": 21,
     "metadata": {},
     "output_type": "execute_result"
    }
   ],
   "source": [
    "import matplotlib.pyplot as plt\n",
    "combined.plot(x=\"total_enrollment\", y=\"sat_score\", kind=\"scatter\")\n"
   ]
  },
  {
   "cell_type": "code",
   "execution_count": 22,
   "metadata": {},
   "outputs": [
    {
     "name": "stdout",
     "output_type": "stream",
     "text": [
      "        DBN                                       SCHOOL NAME  \\\n",
      "91   07X334               INTERNATIONAL COMMUNITY HIGH SCHOOL   \n",
      "125  09X365               ACADEMY FOR LANGUAGE AND TECHNOLOGY   \n",
      "126  09X403                   BRONX INTERNATIONAL HIGH SCHOOL   \n",
      "139  10X268             KINGSBRIDGE INTERNATIONAL HIGH SCHOOL   \n",
      "141  10X342             INTERNATIONAL SCHOOL FOR LIBERAL ARTS   \n",
      "176  12X388  PAN AMERICAN INTERNATIONAL HIGH SCHOOL AT MONROE   \n",
      "179  12X550                     HIGH SCHOOL OF WORLD CULTURES   \n",
      "188  13K439                BROOKLYN INTERNATIONAL HIGH SCHOOL   \n",
      "225  17K524     INTERNATIONAL HIGH SCHOOL AT PROSPECT HEIGHTS   \n",
      "237  18K563                        IT TAKES A VILLAGE ACADEMY   \n",
      "253  19K583                         MULTICULTURAL HIGH SCHOOL   \n",
      "286  24Q296            PAN AMERICAN INTERNATIONAL HIGH SCHOOL   \n",
      "\n",
      "    Num of SAT Test Takers  SAT Critical Reading Avg. Score  \\\n",
      "91                      34                            310.0   \n",
      "125                     54                            315.0   \n",
      "126                     49                            314.0   \n",
      "139                     52                            304.0   \n",
      "141                     49                            300.0   \n",
      "176                     30                            321.0   \n",
      "179                     42                            304.0   \n",
      "188                     90                            305.0   \n",
      "225                     71                            287.0   \n",
      "237                     56                            313.0   \n",
      "253                     29                            279.0   \n",
      "286                     55                            317.0   \n",
      "\n",
      "     SAT Math Avg. Score  SAT Writing Avg. Score  sat_score  \\\n",
      "91                 324.0                   311.0      945.0   \n",
      "125                339.0                   297.0      951.0   \n",
      "126                312.0                   339.0      965.0   \n",
      "139                356.0                   302.0      962.0   \n",
      "141                333.0                   301.0      934.0   \n",
      "176                351.0                   298.0      970.0   \n",
      "179                323.0                   312.0      939.0   \n",
      "188                364.0                   312.0      981.0   \n",
      "225                335.0                   291.0      913.0   \n",
      "237                320.0                   330.0      963.0   \n",
      "253                322.0                   286.0      887.0   \n",
      "286                323.0                   311.0      951.0   \n",
      "\n",
      "                                SchoolName  AP Test Takers   \\\n",
      "91                                       0       129.028846   \n",
      "125    Academy for Language and Technology        20.000000   \n",
      "126                                      0       129.028846   \n",
      "139  Kingsbridge International High School        32.000000   \n",
      "141  International School for Liberal Arts        55.000000   \n",
      "176                                      0       129.028846   \n",
      "179                                      0       129.028846   \n",
      "188                                      0       129.028846   \n",
      "225                                      0       129.028846   \n",
      "237                                      0       129.028846   \n",
      "253              Multicultural High School        44.000000   \n",
      "286                                      0       129.028846   \n",
      "\n",
      "     Total Exams Taken     ...      \\\n",
      "91          197.038462     ...       \n",
      "125          20.000000     ...       \n",
      "126         197.038462     ...       \n",
      "139          37.000000     ...       \n",
      "141          73.000000     ...       \n",
      "176         197.038462     ...       \n",
      "179         197.038462     ...       \n",
      "188         197.038462     ...       \n",
      "225         197.038462     ...       \n",
      "237         197.038462     ...       \n",
      "253          44.000000     ...       \n",
      "286         197.038462     ...       \n",
      "\n",
      "                                            Location 1 Community Board  \\\n",
      "91   345 Brook Avenue\\nBronx, NY 10454\\n(40.8100361...             1.0   \n",
      "125  1700 Macombs Road\\nBronx, NY 10453\\n(40.849102...             5.0   \n",
      "126  1110 Boston Road\\nBronx, NY 10456\\n(40.8276026...             3.0   \n",
      "139  2780 Reservoir Avenue\\nBronx, NY 10468\\n(40.87...             7.0   \n",
      "141  2780 Reservoir Avenue\\nBronx, NY 10468\\n(40.87...             7.0   \n",
      "176  1300 Boynton Avenue\\nBronx, NY 10472\\n(40.8313...             9.0   \n",
      "179  1300 Boynton Avenue\\nBronx, NY 10472\\n(40.8313...             9.0   \n",
      "188  49 Flatbush Avenue Extension\\nBrooklyn, NY 112...             2.0   \n",
      "225  883 Classon Avenue\\nBrooklyn, NY 11225\\n(40.67...             9.0   \n",
      "237  5800 Tilden Avenue\\nBrooklyn, NY 11203\\n(40.64...            17.0   \n",
      "253  999 Jamaica Avenue\\nBrooklyn, NY 11208\\n(40.69...             5.0   \n",
      "286  45 10 94Th Street\\nElmhurst, NY 11373\\n(40.743...             4.0   \n",
      "\n",
      "    Council District Census Tract        BIN           BBL  \\\n",
      "91               8.0         41.0  2000391.0  2.022860e+09   \n",
      "125             14.0      21502.0  2008460.0  2.028660e+09   \n",
      "126             16.0        135.0  2004526.0  2.026340e+09   \n",
      "139             11.0        409.0  2015241.0  2.032470e+09   \n",
      "141             11.0        409.0  2015241.0  2.032470e+09   \n",
      "176             18.0         56.0  2027459.0  2.038640e+09   \n",
      "179             18.0         56.0  2027459.0  2.038640e+09   \n",
      "188             33.0         15.0  3000216.0  3.001200e+09   \n",
      "225             35.0        213.0  3029686.0  3.011870e+09   \n",
      "237             45.0        936.0  3104598.0  3.047420e+09   \n",
      "253             37.0       1180.0  3090738.0  3.040940e+09   \n",
      "286             25.0        463.0  4437166.0  4.016000e+09   \n",
      "\n",
      "                                                   NTA        lat        lon  \\\n",
      "91   Mott Haven-Port Morris                        ...  40.810036 -73.917812   \n",
      "125  University Heights-Morris Heights             ...  40.849102 -73.916088   \n",
      "126  Morrisania-Melrose                            ...  40.827603 -73.904475   \n",
      "139  Van Cortlandt Village                         ...  40.870377 -73.898163   \n",
      "141  Van Cortlandt Village                         ...  40.870377 -73.898163   \n",
      "176  West Farms-Bronx River                        ...  40.831366 -73.878823   \n",
      "179  West Farms-Bronx River                        ...  40.831366 -73.878823   \n",
      "188  DUMBO-Vinegar Hill-Downtown Brooklyn-Boerum Hi...  40.697175 -73.984960   \n",
      "225  Crown Heights South                           ...  40.670299 -73.961648   \n",
      "237  Rugby-Remsen Village                          ...  40.648664 -73.921899   \n",
      "253  park-cemetery-etc-Brooklyn                    ...  40.691144 -73.868426   \n",
      "286  Elmhurst                                      ...  40.743303 -73.870575   \n",
      "\n",
      "    school_dist  \n",
      "91           07  \n",
      "125          09  \n",
      "126          09  \n",
      "139          10  \n",
      "141          10  \n",
      "176          12  \n",
      "179          12  \n",
      "188          13  \n",
      "225          17  \n",
      "237          18  \n",
      "253          19  \n",
      "286          24  \n",
      "\n",
      "[12 rows x 166 columns]\n"
     ]
    }
   ],
   "source": [
    "low_enrollment=combined[(combined[\"total_enrollment\"] < 1000) & (combined[\"sat_score\"] < 1000)]\n",
    "print(low_enrollment)"
   ]
  },
  {
   "cell_type": "code",
   "execution_count": 23,
   "metadata": {},
   "outputs": [
    {
     "data": {
      "text/plain": [
       "<matplotlib.axes._subplots.AxesSubplot at 0x10e0f0978>"
      ]
     },
     "execution_count": 23,
     "metadata": {},
     "output_type": "execute_result"
    },
    {
     "data": {
      "image/png": "[encoded data removed]",
      "text/plain": [
       "<matplotlib.figure.Figure at 0x10e0f0cc0>"
      ]
     },
     "metadata": {},
     "output_type": "display_data"
    }
   ],
   "source": [
    "combined.plot(x=\"ell_percent\",y=\"sat_score\",kind=\"scatter\")"
   ]
  },
  {
   "cell_type": "code",
   "execution_count": 24,
   "metadata": {},
   "outputs": [
    {
     "name": "stderr",
     "output_type": "stream",
     "text": [
      "/Users/jongchana/anaconda3/lib/python3.6/site-packages/pandas/core/series.py:705: FutureWarning: \n",
      "Passing list-likes to .loc or [] with any missing label will raise\n",
      "KeyError in the future, you can use .reindex() as an alternative.\n",
      "\n",
      "See the documentation here:\n",
      "http://pandas.pydata.org/pandas-docs/stable/indexing.html#deprecate-loc-reindex-listlike\n",
      "  return self.loc[key]\n"
     ]
    },
    {
     "data": {
      "text/plain": [
       "<matplotlib.axes._subplots.AxesSubplot at 0x10aa64908>"
      ]
     },
     "execution_count": 24,
     "metadata": {},
     "output_type": "execute_result"
    },
    {
     "data": {
      "image/png": "[encoded data removed]",
      "text/plain": [
       "<matplotlib.figure.Figure at 0x10aa67198>"
      ]
     },
     "metadata": {},
     "output_type": "display_data"
    }
   ],
   "source": [
    "survey_fields = [\n",
    "    \"DBN\", \n",
    "    \"rr_s\", \n",
    "    \"rr_t\", \n",
    "    \"rr_p\", \n",
    "    \"N_s\", \n",
    "    \"N_t\", \n",
    "    \"N_p\", \n",
    "    \"saf_p_11\", \n",
    "    \"com_p_11\", \n",
    "    \"eng_p_11\", \n",
    "    \"aca_p_11\", \n",
    "    \"saf_t_11\", \n",
    "    \"com_t_11\", \n",
    "    \"eng_t_10\", \n",
    "    \"aca_t_11\", \n",
    "    \"saf_s_11\", \n",
    "    \"com_s_11\", \n",
    "    \"eng_s_11\", \n",
    "    \"aca_s_11\", \n",
    "    \"saf_tot_11\", \n",
    "    \"com_tot_11\", \n",
    "    \"eng_tot_11\", \n",
    "    \"aca_tot_11\",\n",
    "]\n",
    "\n",
    "%matplotlib inline\n",
    "combined.corr()[\"sat_score\"][survey_fields].plot.bar()"
   ]
  },
  {
   "cell_type": "code",
   "execution_count": 25,
   "metadata": {
    "scrolled": true
   },
   "outputs": [
    {
     "data": {
      "text/plain": [
       "<matplotlib.axes._subplots.AxesSubplot at 0x10aa43320>"
      ]
     },
     "execution_count": 25,
     "metadata": {},
     "output_type": "execute_result"
    },
    {
     "data": {
      "image/png": "[encoded data removed]",
      "text/plain": [
       "<matplotlib.figure.Figure at 0x10aa61630>"
      ]
     },
     "metadata": {},
     "output_type": "display_data"
    }
   ],
   "source": [
    "combined.plot.scatter(\"saf_s_11\", \"sat_score\")"
   ]
  },
  {
   "cell_type": "code",
   "execution_count": 31,
   "metadata": {},
   "outputs": [
    {
     "name": "stderr",
     "output_type": "stream",
     "text": [
      "/Users/jongchana/anaconda3/lib/python3.6/site-packages/mpl_toolkits/basemap/__init__.py:1704: MatplotlibDeprecationWarning: The axesPatch function was deprecated in version 2.1. Use Axes.patch instead.\n",
      "  limb = ax.axesPatch\n",
      "/Users/jongchana/anaconda3/lib/python3.6/site-packages/mpl_toolkits/basemap/__init__.py:1707: MatplotlibDeprecationWarning: The axesPatch function was deprecated in version 2.1. Use Axes.patch instead.\n",
      "  if limb is not ax.axesPatch:\n"
     ]
    },
    {
     "data": {
      "image/png": "[encoded data removed]",
      "text/plain": [
       "<matplotlib.figure.Figure at 0x113631e48>"
      ]
     },
     "metadata": {},
     "output_type": "display_data"
    }
   ],
   "source": [
    "from mpl_toolkits.basemap import Basemap\n",
    "\n",
    "districts_data = combined.groupby('school_dist').agg(np.mean)\n",
    "\n",
    "xmap = Basemap(\n",
    "    projection='merc', \n",
    "    llcrnrlat=40.496044, \n",
    "    urcrnrlat=40.915256, \n",
    "    llcrnrlon=-74.255735, \n",
    "    urcrnrlon=-73.700272,\n",
    "    resolution='i'\n",
    ")\n",
    "\n",
    "xmap.drawmapboundary(fill_color = 'black')\n",
    "xmap.drawcoastlines(color='blue', linewidth=.4)\n",
    "xmap.drawrivers(color='orange',linewidth=.4)\n",
    "xmap.fillcontinents(color='white', lake_color='purple')\n",
    "\n",
    "lon = districts_data['lon'].tolist()\n",
    "lat = districts_data['lat'].tolist()\n",
    "xmap.scatter(lon,lat,s=50,zorder=2,latlon=True,c=districts_data['saf_s_11'], cmap='summer')\n",
    "plt.show()\n",
    "\n"
   ]
  },
  {
   "cell_type": "code",
   "execution_count": 33,
   "metadata": {},
   "outputs": [
    {
     "data": {
      "text/plain": [
       "<matplotlib.axes._subplots.AxesSubplot at 0x11272f198>"
      ]
     },
     "execution_count": 33,
     "metadata": {},
     "output_type": "execute_result"
    },
    {
     "data": {
      "image/png": "[encoded data removed]",
      "text/plain": [
       "<matplotlib.figure.Figure at 0x112735e10>"
      ]
     },
     "metadata": {},
     "output_type": "display_data"
    }
   ],
   "source": [
    "race_list = { 'white_per','asian_per','black_per','hispanic_per'}\n",
    "combined.corr()['sat_score'][race_list].plot.bar()"
   ]
  },
  {
   "cell_type": "code",
   "execution_count": 35,
   "metadata": {},
   "outputs": [
    {
     "data": {
      "text/plain": [
       "<matplotlib.axes._subplots.AxesSubplot at 0x112c99c88>"
      ]
     },
     "execution_count": 35,
     "metadata": {},
     "output_type": "execute_result"
    },
    {
     "data": {
      "image/png": "[encoded data removed]",
      "text/plain": [
       "<matplotlib.figure.Figure at 0x1127529e8>"
      ]
     },
     "metadata": {},
     "output_type": "display_data"
    },
    {
     "data": {
      "image/png": "[encoded data removed]",
      "text/plain": [
       "<matplotlib.figure.Figure at 0x10623d8d0>"
      ]
     },
     "metadata": {},
     "output_type": "display_data"
    },
    {
     "data": {
      "image/png": "[encoded data removed]",
      "text/plain": [
       "<matplotlib.figure.Figure at 0x112c99898>"
      ]
     },
     "metadata": {},
     "output_type": "display_data"
    },
    {
     "data": {
      "image/png": "[encoded data removed]",
      "text/plain": [
       "<matplotlib.figure.Figure at 0x1123ae7f0>"
      ]
     },
     "metadata": {},
     "output_type": "display_data"
    }
   ],
   "source": [
    "combined.plot.scatter('hispanic_per','sat_score')\n",
    "combined.plot.scatter('black_per','sat_score')\n",
    "combined.plot.scatter('white_per','sat_score')\n",
    "combined.plot.scatter('asian_per','sat_score')"
   ]
  },
  {
   "cell_type": "code",
   "execution_count": 37,
   "metadata": {},
   "outputs": [
    {
     "data": {
      "text/plain": [
       "44                         MANHATTAN BRIDGES HIGH SCHOOL\n",
       "82      WASHINGTON HEIGHTS EXPEDITIONARY LEARNING SCHOOL\n",
       "89     GREGORIO LUPERON HIGH SCHOOL FOR SCIENCE AND M...\n",
       "125                  ACADEMY FOR LANGUAGE AND TECHNOLOGY\n",
       "141                INTERNATIONAL SCHOOL FOR LIBERAL ARTS\n",
       "176     PAN AMERICAN INTERNATIONAL HIGH SCHOOL AT MONROE\n",
       "253                            MULTICULTURAL HIGH SCHOOL\n",
       "286               PAN AMERICAN INTERNATIONAL HIGH SCHOOL\n",
       "Name: SCHOOL NAME, dtype: object"
      ]
     },
     "execution_count": 37,
     "metadata": {},
     "output_type": "execute_result"
    }
   ],
   "source": [
    "combined[combined['hispanic_per'] > 95]['SCHOOL NAME']"
   ]
  },
  {
   "cell_type": "code",
   "execution_count": 39,
   "metadata": {},
   "outputs": [
    {
     "data": {
      "text/plain": [
       "37                                STUYVESANT HIGH SCHOOL\n",
       "151                         BRONX HIGH SCHOOL OF SCIENCE\n",
       "187                       BROOKLYN TECHNICAL HIGH SCHOOL\n",
       "327    QUEENS HIGH SCHOOL FOR THE SCIENCES AT YORK CO...\n",
       "356                  STATEN ISLAND TECHNICAL HIGH SCHOOL\n",
       "Name: SCHOOL NAME, dtype: object"
      ]
     },
     "execution_count": 39,
     "metadata": {},
     "output_type": "execute_result"
    }
   ],
   "source": [
    "combined[(combined['hispanic_per'] < 10)&(combined['sat_score'] > 1800)]['SCHOOL NAME']"
   ]
  },
  {
   "cell_type": "code",
   "execution_count": 40,
   "metadata": {},
   "outputs": [
    {
     "data": {
      "text/plain": [
       "<matplotlib.axes._subplots.AxesSubplot at 0x112555828>"
      ]
     },
     "execution_count": 40,
     "metadata": {},
     "output_type": "execute_result"
    },
    {
     "data": {
      "image/png": "[encoded data removed]",
      "text/plain": [
       "<matplotlib.figure.Figure at 0x112523940>"
      ]
     },
     "metadata": {},
     "output_type": "display_data"
    }
   ],
   "source": [
    "combined.corr()['sat_score'][{'male_per','female_per'}].plot.bar()"
   ]
  },
  {
   "cell_type": "code",
   "execution_count": 41,
   "metadata": {},
   "outputs": [
    {
     "data": {
      "text/plain": [
       "<matplotlib.axes._subplots.AxesSubplot at 0x10995e4e0>"
      ]
     },
     "execution_count": 41,
     "metadata": {},
     "output_type": "execute_result"
    },
    {
     "data": {
      "image/png": "[encoded data removed]",
      "text/plain": [
       "<matplotlib.figure.Figure at 0x112534cc0>"
      ]
     },
     "metadata": {},
     "output_type": "display_data"
    }
   ],
   "source": [
    "combined.plot.scatter('female_per','sat_score')"
   ]
  },
  {
   "cell_type": "code",
   "execution_count": 43,
   "metadata": {},
   "outputs": [
    {
     "data": {
      "text/plain": [
       "5                         BARD HIGH SCHOOL EARLY COLLEGE\n",
       "26                         ELEANOR ROOSEVELT HIGH SCHOOL\n",
       "60                                    BEACON HIGH SCHOOL\n",
       "61     FIORELLO H. LAGUARDIA HIGH SCHOOL OF MUSIC & A...\n",
       "302                          TOWNSEND HARRIS HIGH SCHOOL\n",
       "Name: SCHOOL NAME, dtype: object"
      ]
     },
     "execution_count": 43,
     "metadata": {},
     "output_type": "execute_result"
    }
   ],
   "source": [
    "combined[(combined['female_per'] > 60) & (combined['sat_score'] > 1700)]['SCHOOL NAME']"
   ]
  },
  {
   "cell_type": "code",
   "execution_count": 46,
   "metadata": {},
   "outputs": [
    {
     "data": {
      "text/plain": [
       "<matplotlib.axes._subplots.AxesSubplot at 0x1098fe550>"
      ]
     },
     "execution_count": 46,
     "metadata": {},
     "output_type": "execute_result"
    },
    {
     "data": {
      "image/png": "[encoded data removed]",
      "text/plain": [
       "<matplotlib.figure.Figure at 0x1098feba8>"
      ]
     },
     "metadata": {},
     "output_type": "display_data"
    }
   ],
   "source": [
    "combined['ap_per'] = combined['AP Test Takers ']/combined['total_enrollment']\n",
    "combined.plot.scatter('ap_per','sat_score')"
   ]
  },
  {
   "cell_type": "code",
   "execution_count": 49,
   "metadata": {},
   "outputs": [
    {
     "data": {
      "text/plain": [
       "<matplotlib.axes._subplots.AxesSubplot at 0x10e8e3a20>"
      ]
     },
     "execution_count": 49,
     "metadata": {},
     "output_type": "execute_result"
    },
    {
     "data": {
      "image/png": "[encoded data removed]",
      "text/plain": [
       "<matplotlib.figure.Figure at 0x10e8e9f98>"
      ]
     },
     "metadata": {},
     "output_type": "display_data"
    }
   ],
   "source": [
    "combined.plot.scatter('AVERAGE CLASS SIZE','sat_score')"
   ]
  }
 ],
 "metadata": {
  "kernelspec": {
   "display_name": "Python 3",
   "language": "python",
   "name": "python3"
  },
  "language_info": {
   "codemirror_mode": {
    "name": "ipython",
    "version": 3
   },
   "file_extension": ".py",
   "mimetype": "text/x-python",
   "name": "python",
   "nbconvert_exporter": "python",
   "pygments_lexer": "ipython3",
   "version": "3.6.4"
  }
 },
 "nbformat": 4,
 "nbformat_minor": 2
}
